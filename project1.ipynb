{
 "cells": [
  {
   "cell_type": "code",
   "execution_count": 183,
   "metadata": {},
   "outputs": [],
   "source": [
    "# Simulate aircraft operation and ground handling\n",
    "# Objective:  Simulate time for arrival aircraft, time needed for ground handling, ensure the time different \n",
    "#             between arrival and departure enough to ready to turnaround, and time for departure aircraft. \n",
    "#             Sorted aircraft following their soonest arrive time. Then, assigned gate for arrival aircraft.\n",
    "#             Calculate the time for ground handling based on baggage handling, fueling, maintenance as task outside of aircraft.\n",
    "#`            Calculate the time for ground handling based on catering, cleaning, toilet service as task inside of aircraft.\n",
    "#             Take the biggest time between inside and outside task as the time for ground handling since tasks can be finished\n",
    "#             the same time.\n",
    "#             Generate delay disruption if something happens during ground handling, take 10% as probability.\n",
    "\n",
    "# References:\n",
    "# Szabo, S., Pilát, M., Makó, S., Korba, P., Čičváková, M., & Kmec, Ľ. (2021, December 21). \n",
    "# Increasing the efficiency of aircraft ground handling-A case study. MDPI. \n",
    "# https://www.mdpi.com/2226-4310/9/1/2 \n",
    "# Gładyś, S., Kwasiborska, A., & Postół, J. (2022). \n",
    "# Determination of the impact of disruptions in ground handling on aircraft fuel consumption. Transport Problems, 17, Article 2. \n",
    "# https://doi.org/10.20858/tp.2022.17.2.10"
   ]
  },
  {
   "cell_type": "code",
   "execution_count": 184,
   "metadata": {},
   "outputs": [],
   "source": [
    "import numpy as np \n",
    "import pandas as pd\n",
    "import matplotlib.pyplot as plt\n",
    "import heapq\n",
    "import random"
   ]
  },
  {
   "cell_type": "code",
   "execution_count": 185,
   "metadata": {},
   "outputs": [
    {
     "name": "stdout",
     "output_type": "stream",
     "text": [
      "Aircraft 1 arrival in 113 minutes\n",
      "Aircraft 1 departure in 244 minutes\n",
      "Time Difference: 131 minutes\n",
      "\n",
      "Aircraft 2 arrival in 36 minutes\n",
      "Aircraft 2 departure in 224 minutes\n",
      "Time Difference: 188 minutes\n",
      "\n",
      "Aircraft 3 arrival in 296 minutes\n",
      "Aircraft 3 departure in 588 minutes\n",
      "Time Difference: 292 minutes\n",
      "\n",
      "Aircraft 4 arrival in 38 minutes\n",
      "Aircraft 4 departure in 205 minutes\n",
      "Time Difference: 167 minutes\n",
      "\n",
      "Aircraft 5 arrival in 124 minutes\n",
      "Aircraft 5 departure in 387 minutes\n",
      "Time Difference: 263 minutes\n",
      "\n",
      "Aircraft 6 arrival in 120 minutes\n",
      "Aircraft 6 departure in 394 minutes\n",
      "Time Difference: 274 minutes\n",
      "\n",
      "Aircraft 7 arrival in 84 minutes\n",
      "Aircraft 7 departure in 241 minutes\n",
      "Time Difference: 157 minutes\n",
      "\n",
      "Aircraft 8 arrival in 118 minutes\n",
      "Aircraft 8 departure in 426 minutes\n",
      "Time Difference: 308 minutes\n",
      "\n",
      "Aircraft 9 arrival in 215 minutes\n",
      "Aircraft 9 departure in 543 minutes\n",
      "Time Difference: 328 minutes\n",
      "\n",
      "Aircraft 10 arrival in 346 minutes\n",
      "Aircraft 10 departure in 557 minutes\n",
      "Time Difference: 211 minutes\n",
      "\n",
      "Aircraft 11 arrival in 166 minutes\n",
      "Aircraft 11 departure in 341 minutes\n",
      "Time Difference: 175 minutes\n",
      "\n"
     ]
    }
   ],
   "source": [
    "# Define ground handling tasks and time taken for each task in minutes\n",
    "task_out = ['Baggage Handling', 'Fueling', 'Maintenance']\n",
    "task_in = ['Catering', 'Cleaning', 'Toilet Service']\n",
    "task_out_time = [(20, 40), (10, 15), (10, 15)]\n",
    "task_in_time = [(15, 25), (15, 35), (10, 20)]\n",
    "\n",
    "# Define the number of aircrafts, the time taken to arrive and depart, and time difference between arrival and departure\n",
    "num_aircrafts = random.randint(10, 15)\n",
    "arrival_times = [random.randint(1, 360) for _ in range(num_aircrafts)]\n",
    "departure_times = [random.randint(arrival + 120, arrival + 360) for arrival in arrival_times]\n",
    "\n",
    "for i, (arrival_time, departure_time) in enumerate(zip(arrival_times, departure_times)):\n",
    "    time_diff = departure_time - arrival_time\n",
    "    print(f'Aircraft {i + 1} arrival in {arrival_time} minutes')\n",
    "    print(f'Aircraft {i + 1} departure in {departure_time} minutes')\n",
    "    print(f'Time Difference: {time_diff} minutes')\n",
    "    print('')"
   ]
  },
  {
   "cell_type": "code",
   "execution_count": 186,
   "metadata": {},
   "outputs": [
    {
     "name": "stdout",
     "output_type": "stream",
     "text": [
      "Aircraft 1 is ready in 66 minutes\n",
      "Aircraft 2 is ready in 61 minutes\n",
      "Aircraft 3 is ready in 65 minutes\n",
      "Aircraft 4 is ready in 68 minutes\n",
      "Aircraft 5 is ready in 53 minutes\n",
      "Aircraft 6 is ready in 51 minutes\n",
      "Aircraft 7 is ready in 74 minutes\n",
      "Aircraft 8 is ready in 73 minutes\n",
      "Aircraft 9 is ready in 72 minutes\n",
      "Aircraft 10 is ready in 68 minutes\n",
      "Aircraft 11 is ready in 57 minutes\n"
     ]
    }
   ],
   "source": [
    "#Define the simulation ground handling time for each aircraft\n",
    "def ground_handling_simulation(num_aircrafts, task_out, task_in, task_out_time, task_in_time):\n",
    "    aircrafts = []\n",
    "    for i in range(num_aircrafts):\n",
    "        aircraft = {'Aircraft': i + 1}\n",
    "        for j in range(len(task_out)):\n",
    "            task = task_out[j]\n",
    "            task_duration = random.randint(task_out_time[j][0], task_out_time[j][1])\n",
    "            aircraft[task] = task_duration\n",
    "        for j in range(len(task_in)):\n",
    "            task = task_in[j]\n",
    "            task_duration = random.randint(task_in_time[j][0], task_in_time[j][1])\n",
    "            aircraft[task] = task_duration\n",
    "        aircrafts.append(aircraft)\n",
    "    return aircrafts\n",
    "\n",
    "#Defind the total time taken for each aircraft to complete all ground handling tasks\n",
    "def total_time_per_aircraft(aircrafts, task_out, task_in):\n",
    "    total_times = {}\n",
    "    for aircraft in aircrafts:\n",
    "        aircraft_id = aircraft['Aircraft']\n",
    "        total_time_out = sum(aircraft[task] for task in task_out)\n",
    "        total_time_in = sum(aircraft[task] for task in task_in)\n",
    "        total_times[aircraft_id] = max(total_time_out, total_time_in)\n",
    "    return total_times\n",
    "\n",
    "aircrafts = ground_handling_simulation(num_aircrafts, task_out, task_in, task_out_time, task_in_time)\n",
    "total_times = total_time_per_aircraft(aircrafts, task_out, task_in)\n",
    "\n",
    "for aircraft_id, total_time in total_times.items():\n",
    "    print(f'Aircraft {aircraft_id} is ready in {total_time} minutes')\n"
   ]
  },
  {
   "cell_type": "code",
   "execution_count": 187,
   "metadata": {},
   "outputs": [
    {
     "name": "stdout",
     "output_type": "stream",
     "text": [
      "Aircraft 1 is ready to turnaround in 66 minutes\n",
      "Aircraft 2 is ready to turnaround in 73 minutes\n",
      "Aircraft 3 is ready to turnaround in 82 minutes\n",
      "Aircraft 4 is ready to turnaround in 86 minutes\n",
      "Aircraft 5 is ready to turnaround in 64 minutes\n",
      "Aircraft 6 is ready to turnaround in 51 minutes\n",
      "Aircraft 7 is ready to turnaround in 74 minutes\n",
      "Aircraft 8 is ready to turnaround in 88 minutes\n",
      "Aircraft 9 is ready to turnaround in 83 minutes\n",
      "Aircraft 10 is ready to turnaround in 77 minutes\n",
      "Aircraft 11 is ready to turnaround in 81 minutes\n"
     ]
    }
   ],
   "source": [
    "#Defind random disruption in ground handling tasks\n",
    "def random_disruption(aircrafts, task_out, task_in):\n",
    "    disruption_time = 0\n",
    "    for aircraft in aircrafts:\n",
    "        for task in task_out + task_in:\n",
    "            if random.random() < 0.1:\n",
    "                disruption_time = random.randint(5, 30)\n",
    "                aircraft[task] += disruption_time\n",
    "                # print(f'Aircraft {aircraft[\"Aircraft\"]} is delayed {disruption_time} minutes for {task}')\n",
    "    return aircrafts\n",
    "\n",
    "aircrafts = random_disruption(aircrafts, task_out, task_in)\n",
    "total_times = total_time_per_aircraft(aircrafts, task_out, task_in)\n",
    "\n",
    "for aircraft_id, total_time in total_times.items():\n",
    "    print(f'Aircraft {aircraft_id} is ready to turnaround in {total_time} minutes')"
   ]
  },
  {
   "cell_type": "code",
   "execution_count": 188,
   "metadata": {},
   "outputs": [
    {
     "name": "stdout",
     "output_type": "stream",
     "text": [
      "Aircraft 2 arriving in 36 minutes and assigned to gate 1 with turnaround time 73 minutes.\n",
      "Aircraft 4 arriving in 38 minutes and assigned to gate 2 with turnaround time 86 minutes.\n",
      "Aircraft 7 arriving in 84 minutes and assigned to gate 3 with turnaround time 74 minutes.\n",
      "Aircraft 1 arriving in 113 minutes and assigned to gate 4 with turnaround time 66 minutes.\n",
      "Aircraft 8 arriving in 118 minutes and assigned to gate 5 with turnaround time 88 minutes.\n",
      "Aircraft 6 arriving in 120 minutes and assigned to gate 6 with turnaround time 51 minutes.\n",
      "Aircraft 5 arriving in 124 minutes and assigned to gate 7 with turnaround time 64 minutes.\n",
      "Aircraft 11 arriving in 166 minutes and assigned to gate 8 with turnaround time 81 minutes.\n",
      "Aircraft 9 arriving in 215 minutes and assigned to gate 9 with turnaround time 83 minutes.\n",
      "Aircraft 3 arriving in 296 minutes and assigned to gate 10 with turnaround time 82 minutes.\n",
      "Aircraft 10 arriving in 346 minutes and assigned to gate 1 with turnaround time 77 minutes.\n"
     ]
    }
   ],
   "source": [
    "#Simulate multiple aircrafts ariving and being handled at the airport\n",
    "gates = 10\n",
    "gate_status = [(0, i) for i in range(1, gates + 1)]\n",
    "heapq.heapify(gate_status)\n",
    "\n",
    "def assign_gate(gate_status, aircraft_arrival_time, wait_time_threshold=60):  # Increase wait time threshold\n",
    "    # Get the earliest available gate\n",
    "    temp_list = []\n",
    "    assigned_gate = None\n",
    "    while gate_status:\n",
    "        availability_time, gate = heapq.heappop(gate_status)\n",
    "        if availability_time <= aircraft_arrival_time:\n",
    "            assigned_gate = gate\n",
    "            break\n",
    "        elif availability_time <= aircraft_arrival_time + wait_time_threshold:\n",
    "            assigned_gate = gate\n",
    "            break\n",
    "        else:\n",
    "            temp_list.append((availability_time, gate))\n",
    "    \n",
    "    # Push back the gates that were not assigned\n",
    "    for item in temp_list:\n",
    "        heapq.heappush(gate_status, item)\n",
    "    \n",
    "    return assigned_gate\n",
    "\n",
    "# Sort aircraft by arrival times\n",
    "sorted_aircraft_indices = sorted(range(len(arrival_times)), key=lambda k: arrival_times[k])\n",
    "sorted_arrival_times = [arrival_times[i] for i in sorted_aircraft_indices]\n",
    "\n",
    "turnaround_times_with_gates = []\n",
    "for i in sorted_aircraft_indices:\n",
    "    arrival_time = arrival_times[i]\n",
    "    assigned_gate = assign_gate(gate_status, arrival_time)\n",
    "    if assigned_gate is not None:\n",
    "        turnaround_time = total_times[i + 1]\n",
    "        heapq.heappush(gate_status, (arrival_time + turnaround_time, assigned_gate))\n",
    "        turnaround_times_with_gates.append(turnaround_time)\n",
    "        print(f'Aircraft {i + 1} arriving in {arrival_time} minutes and assigned to gate {assigned_gate} with turnaround time {turnaround_time} minutes.')\n",
    "    else:\n",
    "        print(f'Aircraft {i + 1} arriving in {arrival_time} minutes had to wait for a gate.')"
   ]
  },
  {
   "cell_type": "code",
   "execution_count": 189,
   "metadata": {},
   "outputs": [
    {
     "name": "stdout",
     "output_type": "stream",
     "text": [
      " Aircraft  Baggage Handling  Fueling  Maintenance  Catering  Cleaning  Toilet Service  Total Time\n",
      "        1                25       11           14        19        29              18          66\n",
      "        2                22       11           11        24        31              18          73\n",
      "        3                55       14           13        20        17              10          82\n",
      "        4                23       11           14        43        28              15          86\n",
      "        5                32       10           10        22        17              25          64\n",
      "        6                27       12           12        18        18              15          51\n",
      "        7                35       12           14        21        34              19          74\n",
      "        8                53       15           12        24        35              29          88\n",
      "        9                28       10           13        24        32              27          83\n",
      "       10                35       14           28        23        29              16          77\n",
      "       11                56       10           15        15        29              13          81\n"
     ]
    }
   ],
   "source": [
    "df = pd.DataFrame(aircrafts)\n",
    "df['Total Time'] = df['Aircraft'].map(total_times)\n",
    "print(df.to_string(index = False))"
   ]
  },
  {
   "cell_type": "code",
   "execution_count": 190,
   "metadata": {},
   "outputs": [],
   "source": [
    "# Ensure Aircraft column values are integers\n",
    "df['Aircraft'] = df['Aircraft'].astype(int)\n",
    "\n",
    "# Create the 'Arrival Time' column\n",
    "df['Arrival Time'] = df['Aircraft'].map(lambda x: sorted_arrival_times[int(x) - 1])\n",
    "\n",
    "# Create the 'Turnaround Time' column from the total_times dictionary\n",
    "df['Turnaround Time'] = df['Aircraft'].map(total_times)\n",
    "\n",
    "# Assign gates to aircraft based on their arrival times and turnaround times\n",
    "df['Assigned Gate'] = df.apply(lambda row: assign_gate(gate_status, row['Arrival Time'], row['Turnaround Time']), axis = 1)\n",
    "\n",
    "# Create a DataFrame with only Aircraft ID, Assigned Gate, Arrival Time, and Turnaround Time\n",
    "df_aircraft_gate = df[['Aircraft', 'Assigned Gate']].copy()\n",
    "df_aircraft_gate['Arrival Time'] = df['Arrival Time']\n",
    "df_aircraft_gate['Turnaround Time'] = df['Turnaround Time']\n",
    "\n",
    "# Display the new DataFrame\n",
    "# print(df_aircraft_gate.to_string(index = False))"
   ]
  },
  {
   "cell_type": "code",
   "execution_count": 191,
   "metadata": {},
   "outputs": [
    {
     "data": {
      "image/png": "[encoded data removed]",
      "text/plain": [
       "<Figure size 640x480 with 1 Axes>"
      ]
     },
     "metadata": {},
     "output_type": "display_data"
    }
   ],
   "source": [
    "#Visualize the turnaround times\n",
    "if turnaround_times_with_gates:\n",
    "    plt.hist(turnaround_times_with_gates, bins = 10, edgecolor = 'black')\n",
    "    plt.title('Aircraft Turnaround Times')\n",
    "    plt.xlabel('Turnaround Time (minutes)')\n",
    "    plt.ylabel('Number of Aircraft')\n",
    "    plt.show()\n",
    "else:\n",
    "    print(\"No information to display.\")"
   ]
  }
 ],
 "metadata": {
  "kernelspec": {
   "display_name": "Python 3",
   "language": "python",
   "name": "python3"
  },
  "language_info": {
   "codemirror_mode": {
    "name": "ipython",
    "version": 3
   },
   "file_extension": ".py",
   "mimetype": "text/x-python",
   "name": "python",
   "nbconvert_exporter": "python",
   "pygments_lexer": "ipython3",
   "version": "3.9.6"
  }
 },
 "nbformat": 4,
 "nbformat_minor": 2
}
